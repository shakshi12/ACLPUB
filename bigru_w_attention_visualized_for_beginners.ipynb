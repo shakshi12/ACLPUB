{
  "nbformat": 4,
  "nbformat_minor": 0,
  "metadata": {
    "kernelspec": {
      "display_name": "Python 3",
      "language": "python",
      "name": "python3"
    },
    "language_info": {
      "name": "python",
      "version": "3.6.6",
      "mimetype": "text/x-python",
      "codemirror_mode": {
        "name": "ipython",
        "version": 3
      },
      "pygments_lexer": "ipython3",
      "nbconvert_exporter": "python",
      "file_extension": ".py"
    },
    "colab": {
      "name": "bigru-w-attention-visualized-for-beginners.ipynb",
      "provenance": [],
      "collapsed_sections": [],
      "include_colab_link": true
    },
    "accelerator": "GPU"
  },
  "cells": [
    {
      "cell_type": "markdown",
      "metadata": {
        "id": "view-in-github",
        "colab_type": "text"
      },
      "source": [
        "<a href=\"https://colab.research.google.com/github/shakshi12/ACLPUB/blob/master/bigru_w_attention_visualized_for_beginners.ipynb\" target=\"_parent\"><img src=\"https://colab.research.google.com/assets/colab-badge.svg\" alt=\"Open In Colab\"/></a>"
      ]
    },
    {
      "cell_type": "markdown",
      "metadata": {
        "_uuid": "0fbbc5936310123fc6244d6ce11b8394dac1ca8f",
        "id": "uajCoIsjv-OS"
      },
      "source": [
        "# BiGRU w/ Attention visualized for beginners \n",
        "\n",
        "This kernel is an attempt at achieving a good trade-off between a pretty simple model and proper results. \n",
        "\n",
        "**Attention:** Attention layer is added in top of Bidirectional recurrent layer. At the end of the kernel there is available a visualization of the attention mechanism in order to make it more interpretable and easily understandable.\n",
        "\n",
        "**Model architecture**\n",
        "- Embedding layer (GloVe)\n",
        "- Bidirectional GRU\n",
        "- Attention layer\n",
        "- Dense layers\n",
        "\n",
        "![img](https://i.imgur.com/y0O0FIM.png)\n",
        "\n",
        "Please, note that this kernel is based on several sources and references, including other kernels, blog posts...\n",
        "\n",
        "**Sources/References:**\n",
        "\n",
        "- [A look at different embeddings.! by SRK](https://www.kaggle.com/sudalairajkumar/a-look-at-different-embeddings)\n",
        "- [Using LSTMs with attention for emotion recognition](https://www.kaggle.com/eray1yildiz/using-lstms-with-attention-for-emotion-recognition)\n",
        "- [FocalLoss for Keras](https://www.kaggle.com/rejpalcz/focalloss-for-keras)\n",
        "- [Attention Layer](https://www.kaggle.com/suicaokhoailang/lstm-attention-baseline-0-652-lb)\n",
        "- [Keras Layer that implements an Attention mechanism for temporal data.](https://gist.github.com/cbaziotis/6428df359af27d58078ca5ed9792bd6d)\n",
        "- [A Beginner's Guide to Attention Mechanisms and Memory Networks](https://skymind.ai/wiki/attention-mechanism-memory-network)"
      ]
    },
    {
      "cell_type": "code",
      "metadata": {
        "colab": {
          "base_uri": "https://localhost:8080/"
        },
        "id": "Qxaf31Z4zudN",
        "outputId": "5111a203-2f38-4543-da90-9c796b361e49"
      },
      "source": [
        "from google.colab import drive\n",
        "drive.mount('/content/drive')"
      ],
      "execution_count": 2,
      "outputs": [
        {
          "output_type": "stream",
          "name": "stdout",
          "text": [
            "Mounted at /content/drive\n"
          ]
        }
      ]
    },
    {
      "cell_type": "markdown",
      "metadata": {
        "_uuid": "29290f689da4209f0022c293adfb221f4112129e",
        "id": "txzDlPxdv-Ok"
      },
      "source": [
        "## Imports"
      ]
    },
    {
      "cell_type": "code",
      "metadata": {
        "_uuid": "8f2839f25d086af736a60e9eeb907d3b93b6e0e5",
        "_cell_guid": "b1076dfc-b9ad-4769-8c92-a6c4dae69d19",
        "trusted": true,
        "_kg_hide-output": true,
        "id": "6O0T7KRDv-Oo"
      },
      "source": [
        "# Imports\n",
        "# Basic\n",
        "import numpy as np # linear algebra\n",
        "import pandas as pd # data processing, CSV file I/O (e.g. pd.read_csv)\n",
        "import os, random, math\n",
        "from sklearn.model_selection import train_test_split\n",
        "from sklearn import metrics\n",
        "\n",
        "# DL\n",
        "import tensorflow as tf\n",
        "import keras\n",
        "import keras.backend as K\n",
        "from keras.callbacks import Callback\n",
        "from keras.preprocessing.text import Tokenizer\n",
        "from keras.preprocessing.sequence import pad_sequences\n",
        "from keras import Model\n",
        "from keras.layers import Layer, Input, Embedding, Dropout, SpatialDropout1D, GlobalAveragePooling1D\n",
        "from keras.layers import GlobalMaxPooling1D, Bidirectional, GRU, CuDNNGRU, Activation, Dense\n",
        "from keras.layers import Dot, Reshape, TimeDistributed, concatenate, BatchNormalization\n",
        "from keras import initializers, regularizers, constraints\n",
        "from tensorflow.keras.optimizers import Adam\n",
        "\n",
        "# Visualization\n",
        "import matplotlib.pyplot as plt\n",
        "from IPython.core.display import display, HTML\n",
        "import seaborn as sns\n",
        "sns.set()"
      ],
      "execution_count": 4,
      "outputs": []
    },
    {
      "cell_type": "code",
      "metadata": {
        "_kg_hide-output": true,
        "_kg_hide-input": true,
        "trusted": true,
        "_uuid": "cbee335800c793d8c42f5ddd809f344415c82650",
        "id": "sQ6Lhadov-Oy"
      },
      "source": [
        "# Util functions\n",
        "# Custom F1 callback\n",
        "sentence_scores = {}\n",
        "\n",
        "class F1Evaluation(Callback):\n",
        "    def __init__(self, validation_data=(), interval=1):\n",
        "        super(Callback, self).__init__()\n",
        "\n",
        "        self.interval = interval\n",
        "        self.X_val, self.y_val = validation_data\n",
        "\n",
        "    def on_epoch_end(self, epoch, logs={}):\n",
        "        if epoch % self.interval == 0:\n",
        "            y_pred = self.model.predict(self.X_val, verbose=0)\n",
        "            y_pred = (y_pred > 0.35).astype(int)\n",
        "            score = metrics.f1_score(self.y_val, y_pred, average=\"micro\")\n",
        "            print(\"\\n F1 Score - epoch: %d - score: %.6f \\n\" % (epoch+1, score))\n",
        "\n",
        "def make_plot(loss, val_loss, acc, val_acc):\n",
        "    t = np.arange(1,len(loss)+1,1)\n",
        "\n",
        "    f, (ax1, ax2) = plt.subplots(1, 2, figsize=(15,3))\n",
        "    plt.subplots_adjust(wspace=0.2)\n",
        "\n",
        "    ax1.plot(t, loss)\n",
        "    ax1.plot(t, val_loss)\n",
        "    ax1.set_xlabel('epoch')\n",
        "    ax1.set_ylabel('loss')\n",
        "    ax1.set_title('Train vs Val loss')\n",
        "    ax1.legend(['train','val'], ncol=2, loc='upper right')\n",
        "\n",
        "    ax2.plot(t, acc)\n",
        "    ax2.plot(t, val_acc)\n",
        "    ax2.set_xlabel('epoch')\n",
        "    ax2.set_ylabel('acc')\n",
        "    ax2.set_title('Train vs Val acc')\n",
        "    ax2.legend(['train','val'], ncol=2, loc='upper right')\n",
        "\n",
        "    plt.show();\n",
        "\n",
        "def rgb_to_hex(rgb):\n",
        "    return '#%02x%02x%02x' % rgb\n",
        "    \n",
        "def attention2color(attention_score):\n",
        "    r = 255 - int(attention_score * 255)\n",
        "    color = rgb_to_hex((255, r, r))\n",
        "    return str(color)\n",
        "\n",
        "def visualize_attention():\n",
        "    # Make new model for output predictions and attentions\n",
        "    model_att = Model(inputs=model.input, \\\n",
        "                            outputs=[model.output, model.get_layer('attention_vec').output])\n",
        "    idx = np.random.randint(low = 0, high=X_te.shape[0]) # Get a random test\n",
        "    tokenized_sample = np.trim_zeros(X_te[idx]) # Get the tokenized text\n",
        "    label_probs, attentions = model_att.predict(X_te[idx:idx+1]) # Perform the prediction\n",
        "\n",
        "    # Get decoded text and labels\n",
        "    id2word = dict(map(reversed, tokenizer.word_index.items()))\n",
        "    decoded_text = [id2word[word] for word in tokenized_sample] \n",
        "    \n",
        "    # Get classification\n",
        "    label = np.argmax((label_probs>0.5).astype(int).squeeze()) # Only one\n",
        "    label2id = ['Misleading', 'Non-Misleading']\n",
        "\n",
        "    # Get word attentions using attention vector\n",
        "    token_attention_dic = {}\n",
        "    max_score = 0.0\n",
        "    min_score = 0.0\n",
        "    for token, attention_score in zip(decoded_text, attentions[0][-len(tokenized_sample):]):\n",
        "        token_attention_dic[token] = attention_score\n",
        "        print('token',  token_attention_dic[token])\n",
        "        print('attention', attention_score)\n",
        "        #sentence_scores[token_attention_dic[token]] = attention_score\n",
        "        \n",
        "\n",
        "    # Build HTML String to viualize attentions\n",
        "    html_text = \"<hr><p style='font-size: large'><b>Text:  </b>\"\n",
        "    for token, attention in token_attention_dic.items():\n",
        "        html_text += \"<span style='background-color:{};'>{} <span> \".format(attention2color(attention),\n",
        "                                                                            token)\n",
        "    #html_text += \"</p><br>\"\n",
        "    #html_text += \"<p style='font-size: large'><b>Classified as:</b> \"\n",
        "    #html_text += label2id[label] \n",
        "    #html_text += \"</p>\"\n",
        "    \n",
        "    # Display text enriched with attention scores \n",
        "    display(HTML(html_text))\n",
        "    \n",
        "    # PLOT EMOTION SCORES\n",
        "    \n",
        "    _labels = ['Misleading', 'Non-Misleading']\n",
        "    plt.figure(figsize=(5,2))\n",
        "    plt.bar(np.arange(len(_labels)), label_probs.squeeze(), align='center', alpha=0.5, color=['black', 'red', 'green', 'blue', 'cyan', \"purple\"])\n",
        "    plt.xticks(np.arange(len(_labels)), _labels)\n",
        "    plt.ylabel('Scores')\n",
        "    plt.show()\n",
        "    \n",
        "def under_sample(train_df):\n",
        "    # UNDER SAMPLE\n",
        "    insincere = len(train_df[train_df.target == 1])\n",
        "    insincere_indices = train_df[train_df.target == 1].index\n",
        "\n",
        "    sincere_indices = train_df[train_df.target == 0].index\n",
        "    random_indices = np.random.choice(sincere_indices, insincere, replace=False)\n",
        "\n",
        "    under_sample_indices = np.concatenate([insincere_indices,random_indices])\n",
        "    under_sample = train_df.loc[under_sample_indices]\n",
        "    train_df = under_sample.sample(frac=1)\n",
        "    train_df.info()\n",
        "    return train_df\n",
        "\n",
        "def get_coefs(word, *arr): return word, np.asarray(arr, dtype='float32')\n",
        "\n",
        "def get_embeddings_matrix():\n",
        "    embeddings_index = dict(get_coefs(*o.rstrip().rsplit(' ')) for o in open(EMBEDDING_FILE))\n",
        "\n",
        "    word_index = tokenizer.word_index\n",
        "    nb_words = min(MAX_FEATURES, len(word_index))\n",
        "    print('nb_words: %d' % nb_words)\n",
        "    embedding_matrix = np.zeros((nb_words, EMB_SIZE))\n",
        "    print('Embedding matrix shape: %d/%d' % (nb_words, EMB_SIZE))\n",
        "    for word, i in word_index.items():\n",
        "        if i >= nb_words: continue\n",
        "        embedding_vector = embeddings_index.get(word)\n",
        "        if embedding_vector is not None: embedding_matrix[i] = embedding_vector\n",
        "    return embedding_matrix\n",
        "\n",
        "def visualize_attention():\n",
        "    # Make new model for output predictions and attentions\n",
        "    '''\n",
        "    model.get_layer('attention_vec').output:\n",
        "    attention_vec (Attention)    [(None, 128), (None, 54)] <- We want (None,54) that is the word att\n",
        "    '''\n",
        "    model_att = Model(inputs=model.input, \\\n",
        "                            outputs=[model.output, model.get_layer('attention_vec').output[-1]])\n",
        "    idx = np.random.randint(low = 0, high=X_te.shape[0]) # Get a random test\n",
        "    tokenized_sample = np.trim_zeros(X_te[idx]) # Get the tokenized text\n",
        "    label_probs, attentions = model_att.predict(X_te[idx:idx+1]) # Perform the prediction\n",
        "\n",
        "    # Get decoded text and labels\n",
        "    id2word = dict(map(reversed, tokenizer.word_index.items()))\n",
        "    decoded_text = [id2word[word] for word in tokenized_sample] \n",
        "    \n",
        "    # Get classification\n",
        "    label = (label_probs>0.5).astype(int).squeeze() # Only one\n",
        "    label2id = ['Misleading', 'Non-Misleading']\n",
        "\n",
        "    # Get word attentions using attenion vector\n",
        "    token_attention_dic = {}\n",
        "    max_score = 0.0\n",
        "    min_score = 0.0\n",
        "    \n",
        "    attentions_text = attentions[0,-len(tokenized_sample):]\n",
        "    #plt.bar(np.arange(0,len(attentions.squeeze())), attentions.squeeze())\n",
        "    #plt.show();\n",
        "    #print(attentions_text)\n",
        "    attentions_text = (attentions_text - np.min(attentions_text)) / (np.max(attentions_text) - np.min(attentions_text))\n",
        "    for token, attention_score in zip(decoded_text, attentions_text):\n",
        "        #print(token, attention_score)\n",
        "        if (attention_score == np.nan):\n",
        "          attention_score = 0\n",
        "        token_attention_dic[token] = attention_score\n",
        "        print('token',  token)\n",
        "        print('attention', attention_score)\n",
        "        if token in sentence_scores:\n",
        "          sentence_scores[token] = sentence_scores[token] + attention_score\n",
        "        else:\n",
        "          sentence_scores[token] = attention_score\n",
        "        \n",
        "\n",
        "    # Build HTML String to viualize attentions\n",
        "    html_text = \"<hr><p style='font-size: large'><b>Text:  </b>\"\n",
        "    for token, attention in token_attention_dic.items():\n",
        "        html_text += \"<span style='background-color:{};'>{} <span> \".format(attention2color(attention),\n",
        "                                                                            token)\n",
        "    #html_text += \"</p><br>\"\n",
        "    #html_text += \"<p style='font-size: large'><b>Classified as:</b> \"\n",
        "    #html_text += label2id[label] \n",
        "    #html_text += \"</p>\"\n",
        "    \n",
        "    # Display text enriched with attention scores \n",
        "    display(HTML(html_text))\n",
        "    \n",
        "    # PLOT EMOTION SCORES\n",
        "    _labels = ['Misleading', 'Non-Misleading']\n",
        "    probs = np.zeros(2)\n",
        "    probs[1] = label_probs\n",
        "    probs[0] = 1- label_probs\n",
        "    plt.figure(figsize=(5,2))\n",
        "    plt.bar(np.arange(len(_labels)), probs.squeeze(), align='center', alpha=0.5, color=['black', 'red', 'green', 'blue', 'cyan', \"purple\"])\n",
        "    plt.xticks(np.arange(len(_labels)), _labels)\n",
        "    plt.ylabel('Scores')\n",
        "    plt.show()"
      ],
      "execution_count": 73,
      "outputs": []
    },
    {
      "cell_type": "code",
      "metadata": {
        "colab": {
          "base_uri": "https://localhost:8080/"
        },
        "id": "5-R4q2Ks_Lxk",
        "outputId": "244c2611-3fe5-4459-dc8b-ca77300e3cf4"
      },
      "source": [
        "X_te"
      ],
      "execution_count": 60,
      "outputs": [
        {
          "output_type": "execute_result",
          "data": {
            "text/plain": [
              "array([[2, 1, 3, 4, 5],\n",
              "       [0, 0, 1, 3, 5],\n",
              "       [0, 0, 8, 1, 9],\n",
              "       [0, 0, 6, 1, 7]], dtype=int32)"
            ]
          },
          "metadata": {},
          "execution_count": 60
        }
      ]
    },
    {
      "cell_type": "code",
      "metadata": {
        "_kg_hide-input": true,
        "_kg_hide-output": true,
        "trusted": true,
        "_uuid": "9d02d361f78069d72a788612e0a24ef3187b3150",
        "id": "GeaW65Scv-O_"
      },
      "source": [
        "# Util classes\n",
        "class Attention(Layer):\n",
        "    def __init__(self,\n",
        "                 W_regularizer=None, b_regularizer=None,\n",
        "                 W_constraint=None, b_constraint=None,\n",
        "                 bias=True, return_attention=False,\n",
        "                 **kwargs):\n",
        "        self.supports_masking = True\n",
        "        self.return_attention = return_attention\n",
        "        self.init = initializers.get('glorot_uniform')\n",
        "\n",
        "        self.W_regularizer = regularizers.get(W_regularizer)\n",
        "        self.b_regularizer = regularizers.get(b_regularizer)\n",
        "\n",
        "        self.W_constraint = constraints.get(W_constraint)\n",
        "        self.b_constraint = constraints.get(b_constraint)\n",
        "\n",
        "        self.bias = bias\n",
        "\n",
        "        super(Attention, self).__init__(**kwargs)\n",
        "\n",
        "\n",
        "    def build(self, input_shape):\n",
        "        assert len(input_shape) == 3\n",
        "\n",
        "        self.W = self.add_weight(shape = (input_shape[-1],),\n",
        "                                 initializer=self.init,\n",
        "                                 name='{}_W'.format(self.name),\n",
        "                                 regularizer=self.W_regularizer,\n",
        "                                 constraint=self.W_constraint)\n",
        "        if self.bias:\n",
        "            self.b = self.add_weight(shape = (input_shape[1],),#shape=(self.input_dim, self.units),\n",
        "                                     initializer='zero',\n",
        "                                     name='{}_b'.format(self.name),\n",
        "                                     regularizer=self.b_regularizer,\n",
        "                                     constraint=self.b_constraint)\n",
        "        else:\n",
        "            self.b = None\n",
        "\n",
        "        self.built = True\n",
        "\n",
        "    def compute_mask(self, input, input_mask=None):\n",
        "        # do not pass the mask to the next layers\n",
        "        return None\n",
        "\n",
        "    def call(self, x, mask=None):\n",
        "        eij = K.squeeze(K.dot(x, K.expand_dims(self.W)), axis=-1)\n",
        "\n",
        "        if self.bias:\n",
        "            eij += self.b\n",
        "\n",
        "        eij = K.tanh(eij)\n",
        "\n",
        "        a = K.exp(eij)\n",
        "\n",
        "        # apply mask after the exp. will be re-normalized next\n",
        "        if mask is not None:\n",
        "            # Cast the mask to floatX to avoid float64 upcasting in theano\n",
        "            a *= K.cast(mask, K.floatx())\n",
        "\n",
        "        # in some cases especially in the early stages of training the sum may be almost zero\n",
        "        # and this results in NaN's. A workaround is to add a very small positive number ε to the sum.\n",
        "        # a /= K.cast(K.sum(a, axis=1, keepdims=True), K.floatx())\n",
        "        a /= K.cast(K.sum(a, axis=1, keepdims=True) + K.epsilon(), K.floatx())\n",
        "\n",
        "        weighted_input = x * K.expand_dims(a)\n",
        "\n",
        "        result = K.sum(weighted_input, axis=1)\n",
        "\n",
        "        if self.return_attention:\n",
        "            return [result, a]\n",
        "        return result\n",
        "\n",
        "    def compute_output_shape(self, input_shape):\n",
        "        if self.return_attention:\n",
        "            return [(input_shape[0], input_shape[-1]),\n",
        "                    (input_shape[0], input_shape[1])]\n",
        "        else:\n",
        "            return input_shape[0], input_shape[-1]"
      ],
      "execution_count": 74,
      "outputs": []
    },
    {
      "cell_type": "markdown",
      "metadata": {
        "_uuid": "a5d68f3e67f9fedd9ce938c2d3c845090719f3b6",
        "id": "u0h31FcLv-PS"
      },
      "source": [
        "## Hyperparameters"
      ]
    },
    {
      "cell_type": "code",
      "metadata": {
        "_cell_guid": "79c7e3d0-c299-4dcb-8224-4455121ee9b0",
        "_uuid": "d629ff2d2480ee46fbb7e2d37f6b5fab8052498a",
        "trusted": true,
        "id": "83q0zkYNv-PT"
      },
      "source": [
        "# Hyperparameters\n",
        "\n",
        "EMB_SIZE = 300\n",
        "MAX_FEATURES = 50000 # how many unique words to use (i.e num rows in embedding vector)\n",
        "MAX_LEN = 100 # Maximum length for texts\n",
        "EMBEDDING_FILE = '/content/drive/MyDrive/Embeddings/glove.840B.300d.txt'"
      ],
      "execution_count": 75,
      "outputs": []
    },
    {
      "cell_type": "markdown",
      "metadata": {
        "_uuid": "b7a6778b925b0ac2ac106d025f8b48ef4d1fea10",
        "id": "CqQKqhoAv-PU"
      },
      "source": [
        "## Load & prepare data"
      ]
    },
    {
      "cell_type": "code",
      "metadata": {
        "trusted": true,
        "_uuid": "319b73c03ac0e115db68e062054fab98d556c9c8",
        "colab": {
          "base_uri": "https://localhost:8080/"
        },
        "id": "NHypnvUdv-PW",
        "outputId": "7c4435d6-f8e5-434c-a785-5d6a31cd8524"
      },
      "source": [
        "# Load Train/Test\n",
        "# initialize data of lists.\n",
        "data = {'sentences':['niece is a good person', 'trump is a bad person', 'poor is attractive', 'healthy is cool'],\n",
        "        'label':[0, 1, 1, 0]}\n",
        "  \n",
        "# Create DataFrame\n",
        "df = pd.DataFrame(data)\n",
        "  \n",
        "# Print the output.\n",
        "df\n",
        "train_df = df\n",
        "test_df = df\n",
        "print(\"Train shape : \",train_df.shape)\n",
        "print(\"Test shape : \",test_df.shape)"
      ],
      "execution_count": 76,
      "outputs": [
        {
          "output_type": "stream",
          "name": "stdout",
          "text": [
            "Train shape :  (4, 2)\n",
            "Test shape :  (4, 2)\n"
          ]
        }
      ]
    },
    {
      "cell_type": "code",
      "metadata": {
        "trusted": true,
        "_uuid": "eb90aec7fc21edb07a3b75ff9717f1a073177c3a",
        "id": "LkT3ryocv-PY"
      },
      "source": [
        "## split to train and val\n",
        "train_df, val_df = train_test_split(train_df, test_size=0.05, random_state=2018)\n",
        "\n",
        "## fill up the missing values\n",
        "X_tra = train_df[\"sentences\"].fillna(\"_na_\").values\n",
        "X_val = val_df[\"sentences\"].fillna(\"_na_\").values\n",
        "X_te = test_df[\"sentences\"].fillna(\"_na_\").values\n",
        "\n",
        "## Tokenize the sentences\n",
        "tokenizer = Tokenizer(num_words=MAX_FEATURES)\n",
        "tokenizer.fit_on_texts(list(X_tra))\n",
        "X_tra = tokenizer.texts_to_sequences(X_tra)\n",
        "X_val = tokenizer.texts_to_sequences(X_val)\n",
        "X_te = tokenizer.texts_to_sequences(X_te)\n",
        "\n",
        "## Pad the sentences \n",
        "MAX_LEN = min(MAX_LEN, len(max(X_tra, key=len)))\n",
        "X_tra = pad_sequences(X_tra, maxlen=MAX_LEN)\n",
        "X_val = pad_sequences(X_val, maxlen=MAX_LEN)\n",
        "X_te = pad_sequences(X_te, maxlen=MAX_LEN)\n",
        "\n",
        "## Get the target values\n",
        "Y_tra = train_df['label'].values\n",
        "Y_val = val_df['label'].values"
      ],
      "execution_count": 77,
      "outputs": []
    },
    {
      "cell_type": "code",
      "metadata": {
        "colab": {
          "base_uri": "https://localhost:8080/"
        },
        "id": "YMDhkBGn0mjQ",
        "outputId": "f260ee5a-2452-4854-d3b2-ab237f193a2e"
      },
      "source": [
        "X_te"
      ],
      "execution_count": 78,
      "outputs": [
        {
          "output_type": "execute_result",
          "data": {
            "text/plain": [
              "array([[2, 1, 3, 4, 5],\n",
              "       [0, 0, 1, 3, 5],\n",
              "       [0, 0, 8, 1, 9],\n",
              "       [0, 0, 6, 1, 7]], dtype=int32)"
            ]
          },
          "metadata": {},
          "execution_count": 78
        }
      ]
    },
    {
      "cell_type": "code",
      "metadata": {
        "trusted": true,
        "_uuid": "7791302db9d95cd5414eba2281aa48e91191dcc0",
        "colab": {
          "base_uri": "https://localhost:8080/"
        },
        "id": "s0g2aaj2v-PZ",
        "outputId": "01c788ec-ae0c-4222-a7eb-08aba4bd4aec"
      },
      "source": [
        "# Load embeddings\n",
        "embedding_matrix = get_embeddings_matrix()"
      ],
      "execution_count": 10,
      "outputs": [
        {
          "output_type": "stream",
          "name": "stdout",
          "text": [
            "nb_words: 9\n",
            "Embedding matrix shape: 9/300\n"
          ]
        }
      ]
    },
    {
      "cell_type": "markdown",
      "metadata": {
        "_uuid": "be28e207634b96a17b7767cb25dd6965e60bc475",
        "id": "r2ViCwWyv-Pa"
      },
      "source": [
        "## Model design "
      ]
    },
    {
      "cell_type": "code",
      "metadata": {
        "trusted": true,
        "_uuid": "5dcd170ddb0edd3826de2fdf3633dddabf03b90f",
        "colab": {
          "base_uri": "https://localhost:8080/"
        },
        "id": "z1dl_ao5v-Pb",
        "outputId": "2837cdfd-c76b-4742-9519-6da8345ed773"
      },
      "source": [
        "# Define input tensor\n",
        "inp = Input(shape=(X_tra.shape[1]), dtype='int32')\n",
        "\n",
        "# Word embedding layer\n",
        "embedded_inputs = Embedding(embedding_matrix.shape[0], embedding_matrix.shape[1], \n",
        "                            weights=[embedding_matrix], trainable = False)(inp)\n",
        "\n",
        "# Apply dropout to prevent overfitting\n",
        "embedded_inputs = SpatialDropout1D(0.2)(embedded_inputs)\n",
        "\n",
        "# Apply Bidirectional GRU over embedded inputs\n",
        "rnn_outs = Bidirectional(CuDNNGRU(64, return_sequences=True))(embedded_inputs)\n",
        "rnn_outs = Dropout(0.2)(rnn_outs) # Apply dropout to GRU outputs to prevent overfitting\n",
        "\n",
        "# Attention Mechanism - Generate attention vectors\n",
        "sentence, word_scores = Attention(return_attention=True, name = \"attention_vec\")(rnn_outs)\n",
        "\n",
        "# Dense layers\n",
        "fc = Dense(64, activation='relu')(sentence)\n",
        "fc = Dropout(0.5)(fc)\n",
        "output = Dense(1, activation='sigmoid')(fc)\n",
        "\n",
        "# Finally building model\n",
        "model = Model(inputs=inp, outputs=output)\n",
        "model.compile(loss='binary_crossentropy', metrics=[\"accuracy\"], optimizer='adam')\n",
        "\n",
        "# Print model summary\n",
        "model.summary()"
      ],
      "execution_count": 79,
      "outputs": [
        {
          "output_type": "stream",
          "name": "stdout",
          "text": [
            "Model: \"model_29\"\n",
            "_________________________________________________________________\n",
            " Layer (type)                Output Shape              Param #   \n",
            "=================================================================\n",
            " input_7 (InputLayer)        [(None, 5)]               0         \n",
            "                                                                 \n",
            " embedding_6 (Embedding)     (None, 5, 300)            2700      \n",
            "                                                                 \n",
            " spatial_dropout1d_6 (Spatia  (None, 5, 300)           0         \n",
            " lDropout1D)                                                     \n",
            "                                                                 \n",
            " bidirectional_6 (Bidirectio  (None, 5, 128)           140544    \n",
            " nal)                                                            \n",
            "                                                                 \n",
            " dropout_12 (Dropout)        (None, 5, 128)            0         \n",
            "                                                                 \n",
            " attention_vec (Attention)   [(None, 128),             133       \n",
            "                              (None, 5)]                         \n",
            "                                                                 \n",
            " dense_12 (Dense)            (None, 64)                8256      \n",
            "                                                                 \n",
            " dropout_13 (Dropout)        (None, 64)                0         \n",
            "                                                                 \n",
            " dense_13 (Dense)            (None, 1)                 65        \n",
            "                                                                 \n",
            "=================================================================\n",
            "Total params: 151,698\n",
            "Trainable params: 148,998\n",
            "Non-trainable params: 2,700\n",
            "_________________________________________________________________\n"
          ]
        }
      ]
    },
    {
      "cell_type": "code",
      "metadata": {
        "trusted": true,
        "_uuid": "d5103d3bc9a867caef9c438b6feddc740a76f761",
        "colab": {
          "base_uri": "https://localhost:8080/"
        },
        "id": "Lw1-mvngv-Pc",
        "outputId": "ff4ea393-c4d9-499a-e0d8-64d21a470144"
      },
      "source": [
        "# Train model\n",
        "F1_Score = F1Evaluation(validation_data=(X_val, Y_val), interval=1)\n",
        "hist = model.fit(X_tra, Y_tra, validation_data=(X_val, Y_val), \n",
        "                 epochs=3, batch_size=1, callbacks=[F1_Score])\n",
        "val_loss = hist.history['val_loss'];val_acc = hist.history['val_accuracy']\n",
        "loss = hist.history['loss'];acc = hist.history['accuracy']"
      ],
      "execution_count": 80,
      "outputs": [
        {
          "output_type": "stream",
          "name": "stdout",
          "text": [
            "Epoch 1/3\n",
            "1/3 [=========>....................] - ETA: 3s - loss: 0.6773 - accuracy: 1.0000\n",
            " F1 Score - epoch: 1 - score: 1.000000 \n",
            "\n",
            "3/3 [==============================] - 3s 397ms/step - loss: 0.6357 - accuracy: 1.0000 - val_loss: 0.7053 - val_accuracy: 0.0000e+00\n",
            "Epoch 2/3\n",
            "1/3 [=========>....................] - ETA: 0s - loss: 0.7821 - accuracy: 0.0000e+00\n",
            " F1 Score - epoch: 2 - score: 1.000000 \n",
            "\n",
            "3/3 [==============================] - 0s 43ms/step - loss: 0.6300 - accuracy: 0.6667 - val_loss: 0.8269 - val_accuracy: 0.0000e+00\n",
            "Epoch 3/3\n",
            "1/3 [=========>....................] - ETA: 0s - loss: 0.6485 - accuracy: 1.0000\n",
            " F1 Score - epoch: 3 - score: 1.000000 \n",
            "\n",
            "3/3 [==============================] - 0s 42ms/step - loss: 0.5238 - accuracy: 1.0000 - val_loss: 0.9458 - val_accuracy: 0.0000e+00\n"
          ]
        }
      ]
    },
    {
      "cell_type": "markdown",
      "metadata": {
        "_uuid": "a8bd1acee0b33cdab5ebef9021ca89e29c26d874",
        "id": "Te3yIaTQv-Pd"
      },
      "source": [
        "## Performance"
      ]
    },
    {
      "cell_type": "code",
      "metadata": {
        "trusted": true,
        "_uuid": "24d86649c94740d4483dab1196092634a051ebf2",
        "colab": {
          "base_uri": "https://localhost:8080/",
          "height": 246
        },
        "id": "Q2qFou0sv-Pd",
        "outputId": "1272652d-327d-4b6d-9107-f8925da034dc"
      },
      "source": [
        "make_plot(loss, val_loss, acc, val_acc)"
      ],
      "execution_count": 81,
      "outputs": [
        {
          "output_type": "display_data",
          "data": {
            "image/png": "[encoded data removed]",
            "text/plain": [
              "<Figure size 1080x216 with 2 Axes>"
            ]
          },
          "metadata": {}
        }
      ]
    },
    {
      "cell_type": "markdown",
      "metadata": {
        "_uuid": "732e05ddba4ab7922a5b0f22f7dd9c514dd90704",
        "id": "sxyZ_chDv-Pe"
      },
      "source": [
        "## Post processing (find best threshold)"
      ]
    },
    {
      "cell_type": "code",
      "metadata": {
        "trusted": true,
        "_uuid": "ac23d9a57a9213da9324421fefd231b55194c253",
        "colab": {
          "base_uri": "https://localhost:8080/"
        },
        "id": "1dvap9S5v-Pf",
        "outputId": "c55cc32c-431d-4cb6-84bc-416f741152f9"
      },
      "source": [
        "val_pred = model.predict([X_val], batch_size=1, verbose=1)\n",
        "f1s = []\n",
        "max_thresh, max_f1 = 0, 0\n",
        "for thresh in np.arange(0.1, 0.9, 0.01):\n",
        "    f1s.append(metrics.f1_score(Y_val, (val_pred>thresh)))\n",
        "max_f1 = np.max(f1s)\n",
        "max_thresh = np.arange(0.1, 0.9, 0.01)[np.argmax(f1s)]\n",
        "print('Validation set: Max F1-Score: %.2f - reached with threshold: %.2f' % (max_f1, max_thresh))"
      ],
      "execution_count": 82,
      "outputs": [
        {
          "output_type": "stream",
          "name": "stdout",
          "text": [
            "1/1 [==============================] - 0s 289ms/step\n",
            "Validation set: Max F1-Score: 1.00 - reached with threshold: 0.10\n"
          ]
        }
      ]
    },
    {
      "cell_type": "markdown",
      "metadata": {
        "_uuid": "9f9ef64483c7d4ee4a09771a22567ab3046dea90",
        "id": "7pFHQC-Ov-Pf"
      },
      "source": [
        "## Visualize attention\n",
        "\n",
        "Credit assignment is allocating importance to input features through the weights of the neural network’s model. This is exactly what an attention layer does. \n",
        "\n",
        "The attention layer allocates more or less importance to each part of the input, and it learns to do this while training.\n",
        "\n",
        "In this visualization, the input sentences are displayed. The background colour varies between white and red. More intense red means more attention given to the word."
      ]
    },
    {
      "cell_type": "code",
      "metadata": {
        "trusted": true,
        "_uuid": "66a098dcb944567270ba8548b26266a2d72d61c5",
        "colab": {
          "base_uri": "https://localhost:8080/",
          "height": 974
        },
        "id": "B_ZMrJokv-Pg",
        "outputId": "cc9b31fb-c799-4e58-cc50-beabc475b033"
      },
      "source": [
        "for _ in range(3):\n",
        "    visualize_attention()"
      ],
      "execution_count": 83,
      "outputs": [
        {
          "output_type": "stream",
          "name": "stdout",
          "text": [
            "token poor\n",
            "attention 1.0\n",
            "token is\n",
            "attention 0.0\n",
            "token attractive\n",
            "attention 0.1196151\n"
          ]
        },
        {
          "output_type": "display_data",
          "data": {
            "text/html": [
              "<hr><p style='font-size: large'><b>Text:  </b><span style='background-color:#ff0000;'>poor <span> <span style='background-color:#ffffff;'>is <span> <span style='background-color:#ffe1e1;'>attractive <span> "
            ],
            "text/plain": [
              "<IPython.core.display.HTML object>"
            ]
          },
          "metadata": {}
        },
        {
          "output_type": "display_data",
          "data": {
            "image/png": "[encoded data removed]",
            "text/plain": [
              "<Figure size 360x144 with 1 Axes>"
            ]
          },
          "metadata": {}
        },
        {
          "output_type": "stream",
          "name": "stdout",
          "text": [
            "token healthy\n",
            "attention 0.0\n",
            "token is\n",
            "attention 0.07257701\n",
            "token cool\n",
            "attention 1.0\n"
          ]
        },
        {
          "output_type": "display_data",
          "data": {
            "text/html": [
              "<hr><p style='font-size: large'><b>Text:  </b><span style='background-color:#ffffff;'>healthy <span> <span style='background-color:#ffeded;'>is <span> <span style='background-color:#ff0000;'>cool <span> "
            ],
            "text/plain": [
              "<IPython.core.display.HTML object>"
            ]
          },
          "metadata": {}
        },
        {
          "output_type": "display_data",
          "data": {
            "image/png": "[encoded data removed]",
            "text/plain": [
              "<Figure size 360x144 with 1 Axes>"
            ]
          },
          "metadata": {}
        },
        {
          "output_type": "stream",
          "name": "stdout",
          "text": [
            "token niece\n",
            "attention 0.5049102\n",
            "token is\n",
            "attention 0.0\n",
            "token a\n",
            "attention 0.71677613\n",
            "token good\n",
            "attention 0.93914473\n",
            "token person\n",
            "attention 1.0\n"
          ]
        },
        {
          "output_type": "display_data",
          "data": {
            "text/html": [
              "<hr><p style='font-size: large'><b>Text:  </b><span style='background-color:#ff7f7f;'>niece <span> <span style='background-color:#ffffff;'>is <span> <span style='background-color:#ff4949;'>a <span> <span style='background-color:#ff1010;'>good <span> <span style='background-color:#ff0000;'>person <span> "
            ],
            "text/plain": [
              "<IPython.core.display.HTML object>"
            ]
          },
          "metadata": {}
        },
        {
          "output_type": "display_data",
          "data": {
            "image/png": "[encoded data removed]",
            "text/plain": [
              "<Figure size 360x144 with 1 Axes>"
            ]
          },
          "metadata": {}
        }
      ]
    },
    {
      "cell_type": "markdown",
      "metadata": {
        "_uuid": "38019eb6821c50ca1db6e6b04038eda8083528f4",
        "id": "axjRhdP4v-Ph"
      },
      "source": [
        "## Predictions over test set"
      ]
    },
    {
      "cell_type": "code",
      "metadata": {
        "colab": {
          "base_uri": "https://localhost:8080/"
        },
        "id": "NnrBlllO-S76",
        "outputId": "a6b985b2-8f20-4d5f-88c1-d1c7421265d0"
      },
      "source": [
        "sentence_scores"
      ],
      "execution_count": 84,
      "outputs": [
        {
          "output_type": "execute_result",
          "data": {
            "text/plain": [
              "{'a': 0.71677613,\n",
              " 'attractive': 0.1196151,\n",
              " 'cool': 1.0,\n",
              " 'good': 0.93914473,\n",
              " 'healthy': 0.0,\n",
              " 'is': 0.07257701,\n",
              " 'niece': 0.5049102,\n",
              " 'person': 1.0,\n",
              " 'poor': 1.0}"
            ]
          },
          "metadata": {},
          "execution_count": 84
        }
      ]
    },
    {
      "cell_type": "code",
      "metadata": {
        "trusted": true,
        "_uuid": "5687184a4da2d3b313664d10a6dafe3612a9fada",
        "colab": {
          "base_uri": "https://localhost:8080/"
        },
        "id": "N_dRAcInv-Ph",
        "outputId": "26d13c31-f168-4bac-dabc-1e9cd5f05172"
      },
      "source": [
        "test_pred = model.predict([X_te], batch_size=1024, verbose=1)\n",
        "test_pred_thresh = (test_pred>max_thresh).astype(int)"
      ],
      "execution_count": 18,
      "outputs": [
        {
          "output_type": "stream",
          "name": "stdout",
          "text": [
            "1/1 [==============================] - 0s 40ms/step\n"
          ]
        }
      ]
    },
    {
      "cell_type": "markdown",
      "metadata": {
        "_uuid": "08c0aa245f8f125df7d4f57cc1f9ab7006d0c770",
        "id": "vELGf9-Pv-Pi"
      },
      "source": [
        "## Generate submission"
      ]
    },
    {
      "cell_type": "code",
      "metadata": {
        "trusted": true,
        "_uuid": "fcaa1ebf797e3fe975124f68de3e751e83b329e0",
        "colab": {
          "base_uri": "https://localhost:8080/",
          "height": 592
        },
        "id": "lstgV0WPv-Pj",
        "outputId": "5e5c66ba-2d0f-4cbb-8d9f-b03ffa39083f"
      },
      "source": [
        "out_df = pd.DataFrame({\"qid\":test_df[\"qid\"].values})\n",
        "out_df['prediction'] = test_pred_thresh\n",
        "out_df.to_csv(\"submission.csv\", index=False)\n",
        "out_df.head()"
      ],
      "execution_count": 19,
      "outputs": [
        {
          "output_type": "error",
          "ename": "KeyError",
          "evalue": "ignored",
          "traceback": [
            "\u001b[0;31m---------------------------------------------------------------------------\u001b[0m",
            "\u001b[0;31mKeyError\u001b[0m                                  Traceback (most recent call last)",
            "\u001b[0;32m/usr/local/lib/python3.7/dist-packages/pandas/core/indexes/base.py\u001b[0m in \u001b[0;36mget_loc\u001b[0;34m(self, key, method, tolerance)\u001b[0m\n\u001b[1;32m   2897\u001b[0m             \u001b[0;32mtry\u001b[0m\u001b[0;34m:\u001b[0m\u001b[0;34m\u001b[0m\u001b[0;34m\u001b[0m\u001b[0m\n\u001b[0;32m-> 2898\u001b[0;31m                 \u001b[0;32mreturn\u001b[0m \u001b[0mself\u001b[0m\u001b[0;34m.\u001b[0m\u001b[0m_engine\u001b[0m\u001b[0;34m.\u001b[0m\u001b[0mget_loc\u001b[0m\u001b[0;34m(\u001b[0m\u001b[0mcasted_key\u001b[0m\u001b[0;34m)\u001b[0m\u001b[0;34m\u001b[0m\u001b[0;34m\u001b[0m\u001b[0m\n\u001b[0m\u001b[1;32m   2899\u001b[0m             \u001b[0;32mexcept\u001b[0m \u001b[0mKeyError\u001b[0m \u001b[0;32mas\u001b[0m \u001b[0merr\u001b[0m\u001b[0;34m:\u001b[0m\u001b[0;34m\u001b[0m\u001b[0;34m\u001b[0m\u001b[0m\n",
            "\u001b[0;32mpandas/_libs/index.pyx\u001b[0m in \u001b[0;36mpandas._libs.index.IndexEngine.get_loc\u001b[0;34m()\u001b[0m\n",
            "\u001b[0;32mpandas/_libs/index.pyx\u001b[0m in \u001b[0;36mpandas._libs.index.IndexEngine.get_loc\u001b[0;34m()\u001b[0m\n",
            "\u001b[0;32mpandas/_libs/hashtable_class_helper.pxi\u001b[0m in \u001b[0;36mpandas._libs.hashtable.PyObjectHashTable.get_item\u001b[0;34m()\u001b[0m\n",
            "\u001b[0;32mpandas/_libs/hashtable_class_helper.pxi\u001b[0m in \u001b[0;36mpandas._libs.hashtable.PyObjectHashTable.get_item\u001b[0;34m()\u001b[0m\n",
            "\u001b[0;31mKeyError\u001b[0m: 'qid'",
            "\nThe above exception was the direct cause of the following exception:\n",
            "\u001b[0;31mKeyError\u001b[0m                                  Traceback (most recent call last)",
            "\u001b[0;32m<ipython-input-19-878087c3926c>\u001b[0m in \u001b[0;36m<module>\u001b[0;34m()\u001b[0m\n\u001b[0;32m----> 1\u001b[0;31m \u001b[0mout_df\u001b[0m \u001b[0;34m=\u001b[0m \u001b[0mpd\u001b[0m\u001b[0;34m.\u001b[0m\u001b[0mDataFrame\u001b[0m\u001b[0;34m(\u001b[0m\u001b[0;34m{\u001b[0m\u001b[0;34m\"qid\"\u001b[0m\u001b[0;34m:\u001b[0m\u001b[0mtest_df\u001b[0m\u001b[0;34m[\u001b[0m\u001b[0;34m\"qid\"\u001b[0m\u001b[0;34m]\u001b[0m\u001b[0;34m.\u001b[0m\u001b[0mvalues\u001b[0m\u001b[0;34m}\u001b[0m\u001b[0;34m)\u001b[0m\u001b[0;34m\u001b[0m\u001b[0;34m\u001b[0m\u001b[0m\n\u001b[0m\u001b[1;32m      2\u001b[0m \u001b[0mout_df\u001b[0m\u001b[0;34m[\u001b[0m\u001b[0;34m'prediction'\u001b[0m\u001b[0;34m]\u001b[0m \u001b[0;34m=\u001b[0m \u001b[0mtest_pred_thresh\u001b[0m\u001b[0;34m\u001b[0m\u001b[0;34m\u001b[0m\u001b[0m\n\u001b[1;32m      3\u001b[0m \u001b[0mout_df\u001b[0m\u001b[0;34m.\u001b[0m\u001b[0mto_csv\u001b[0m\u001b[0;34m(\u001b[0m\u001b[0;34m\"submission.csv\"\u001b[0m\u001b[0;34m,\u001b[0m \u001b[0mindex\u001b[0m\u001b[0;34m=\u001b[0m\u001b[0;32mFalse\u001b[0m\u001b[0;34m)\u001b[0m\u001b[0;34m\u001b[0m\u001b[0;34m\u001b[0m\u001b[0m\n\u001b[1;32m      4\u001b[0m \u001b[0mout_df\u001b[0m\u001b[0;34m.\u001b[0m\u001b[0mhead\u001b[0m\u001b[0;34m(\u001b[0m\u001b[0;34m)\u001b[0m\u001b[0;34m\u001b[0m\u001b[0;34m\u001b[0m\u001b[0m\n",
            "\u001b[0;32m/usr/local/lib/python3.7/dist-packages/pandas/core/frame.py\u001b[0m in \u001b[0;36m__getitem__\u001b[0;34m(self, key)\u001b[0m\n\u001b[1;32m   2904\u001b[0m             \u001b[0;32mif\u001b[0m \u001b[0mself\u001b[0m\u001b[0;34m.\u001b[0m\u001b[0mcolumns\u001b[0m\u001b[0;34m.\u001b[0m\u001b[0mnlevels\u001b[0m \u001b[0;34m>\u001b[0m \u001b[0;36m1\u001b[0m\u001b[0;34m:\u001b[0m\u001b[0;34m\u001b[0m\u001b[0;34m\u001b[0m\u001b[0m\n\u001b[1;32m   2905\u001b[0m                 \u001b[0;32mreturn\u001b[0m \u001b[0mself\u001b[0m\u001b[0;34m.\u001b[0m\u001b[0m_getitem_multilevel\u001b[0m\u001b[0;34m(\u001b[0m\u001b[0mkey\u001b[0m\u001b[0;34m)\u001b[0m\u001b[0;34m\u001b[0m\u001b[0;34m\u001b[0m\u001b[0m\n\u001b[0;32m-> 2906\u001b[0;31m             \u001b[0mindexer\u001b[0m \u001b[0;34m=\u001b[0m \u001b[0mself\u001b[0m\u001b[0;34m.\u001b[0m\u001b[0mcolumns\u001b[0m\u001b[0;34m.\u001b[0m\u001b[0mget_loc\u001b[0m\u001b[0;34m(\u001b[0m\u001b[0mkey\u001b[0m\u001b[0;34m)\u001b[0m\u001b[0;34m\u001b[0m\u001b[0;34m\u001b[0m\u001b[0m\n\u001b[0m\u001b[1;32m   2907\u001b[0m             \u001b[0;32mif\u001b[0m \u001b[0mis_integer\u001b[0m\u001b[0;34m(\u001b[0m\u001b[0mindexer\u001b[0m\u001b[0;34m)\u001b[0m\u001b[0;34m:\u001b[0m\u001b[0;34m\u001b[0m\u001b[0;34m\u001b[0m\u001b[0m\n\u001b[1;32m   2908\u001b[0m                 \u001b[0mindexer\u001b[0m \u001b[0;34m=\u001b[0m \u001b[0;34m[\u001b[0m\u001b[0mindexer\u001b[0m\u001b[0;34m]\u001b[0m\u001b[0;34m\u001b[0m\u001b[0;34m\u001b[0m\u001b[0m\n",
            "\u001b[0;32m/usr/local/lib/python3.7/dist-packages/pandas/core/indexes/base.py\u001b[0m in \u001b[0;36mget_loc\u001b[0;34m(self, key, method, tolerance)\u001b[0m\n\u001b[1;32m   2898\u001b[0m                 \u001b[0;32mreturn\u001b[0m \u001b[0mself\u001b[0m\u001b[0;34m.\u001b[0m\u001b[0m_engine\u001b[0m\u001b[0;34m.\u001b[0m\u001b[0mget_loc\u001b[0m\u001b[0;34m(\u001b[0m\u001b[0mcasted_key\u001b[0m\u001b[0;34m)\u001b[0m\u001b[0;34m\u001b[0m\u001b[0;34m\u001b[0m\u001b[0m\n\u001b[1;32m   2899\u001b[0m             \u001b[0;32mexcept\u001b[0m \u001b[0mKeyError\u001b[0m \u001b[0;32mas\u001b[0m \u001b[0merr\u001b[0m\u001b[0;34m:\u001b[0m\u001b[0;34m\u001b[0m\u001b[0;34m\u001b[0m\u001b[0m\n\u001b[0;32m-> 2900\u001b[0;31m                 \u001b[0;32mraise\u001b[0m \u001b[0mKeyError\u001b[0m\u001b[0;34m(\u001b[0m\u001b[0mkey\u001b[0m\u001b[0;34m)\u001b[0m \u001b[0;32mfrom\u001b[0m \u001b[0merr\u001b[0m\u001b[0;34m\u001b[0m\u001b[0;34m\u001b[0m\u001b[0m\n\u001b[0m\u001b[1;32m   2901\u001b[0m \u001b[0;34m\u001b[0m\u001b[0m\n\u001b[1;32m   2902\u001b[0m         \u001b[0;32mif\u001b[0m \u001b[0mtolerance\u001b[0m \u001b[0;32mis\u001b[0m \u001b[0;32mnot\u001b[0m \u001b[0;32mNone\u001b[0m\u001b[0;34m:\u001b[0m\u001b[0;34m\u001b[0m\u001b[0;34m\u001b[0m\u001b[0m\n",
            "\u001b[0;31mKeyError\u001b[0m: 'qid'"
          ]
        }
      ]
    },
    {
      "cell_type": "markdown",
      "metadata": {
        "_uuid": "05a48694ee328826ea70f780f1f0380ad9c8bf0f",
        "id": "C2ynSDXnv-Pj"
      },
      "source": [
        "## Thanks\n",
        "\n",
        "This is my first kernel ever on Kaggle. If you are still here, thanks :)\n",
        "    \n",
        "I hope you find it useful in some way and special thanks to all my sources and references.\n",
        "\n",
        "- Alber"
      ]
    }
  ]
}